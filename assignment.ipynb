{
 "cells": [
  {
   "cell_type": "code",
   "execution_count": 1,
   "metadata": {},
   "outputs": [
    {
     "name": "stdout",
     "output_type": "stream",
     "text": [
      "Twinkle, twinkle, little star,\n",
      "      How I wonder what you are!\n",
      "            Up above the world so high,\n",
      "            Like a diamond in the sky.\n",
      "Twinkle, twinkle, little star, \n",
      "      How I wonder what you are\n"
     ]
    }
   ],
   "source": [
    "# Assignment No: 1\n",
    "print(\"Twinkle, twinkle, little star,\\n      How I wonder what you are!\\n            Up above the world so high,\\n            Like a diamond in the sky.\\nTwinkle, twinkle, little star, \\n      How I wonder what you are\")"
   ]
  },
  {
   "cell_type": "code",
   "execution_count": 8,
   "metadata": {},
   "outputs": [
    {
     "name": "stdout",
     "output_type": "stream",
     "text": [
      "Python version= 3.7.4 (default, Aug  9 2019, 18:34:13) [MSC v.1915 64 bit (AMD64)]\n"
     ]
    }
   ],
   "source": [
    "# Assignment No: 2\n",
    "import sys\n",
    "print(\"Python version=\",sys.version)\n",
    "#print (sys.version)"
   ]
  },
  {
   "cell_type": "code",
   "execution_count": 1,
   "metadata": {},
   "outputs": [
    {
     "name": "stdout",
     "output_type": "stream",
     "text": [
      "now = 2019-11-03 10:29:32.053789\n"
     ]
    }
   ],
   "source": [
    "# Assignment No: 3\n",
    "from datetime import datetime\n",
    "now = datetime. now()\n",
    "print(\"now =\", now)"
   ]
  },
  {
   "cell_type": "code",
   "execution_count": 4,
   "metadata": {},
   "outputs": [
    {
     "name": "stdout",
     "output_type": "stream",
     "text": [
      "Enter the radius =55.5\n",
      "The area of circle = 16941.375\n"
     ]
    }
   ],
   "source": [
    "# Assignment N0: 4\n",
    "radius=float(input(\"Enter the radius =\"))\n",
    "pie=22/4\n",
    "Area=pie*radius*radius\n",
    "print(\"The area of circle =\",Area)"
   ]
  },
  {
   "cell_type": "code",
   "execution_count": 5,
   "metadata": {},
   "outputs": [
    {
     "name": "stdout",
     "output_type": "stream",
     "text": [
      "Enter the First Name :usama\n",
      "Enter the Last Name :shaheen\n",
      "shaheen usama\n"
     ]
    }
   ],
   "source": [
    "# Assignment No: 5\n",
    "First_Name=input(\"Enter the First Name :\")\n",
    "Last_Name=input(\"Enter the Last Name :\")\n",
    "print(Last_Name,First_Name)"
   ]
  },
  {
   "cell_type": "code",
   "execution_count": 6,
   "metadata": {},
   "outputs": [
    {
     "name": "stdout",
     "output_type": "stream",
     "text": [
      "Enter the number 1 :50\n",
      "Enter the number 2 :25\n",
      "75\n"
     ]
    }
   ],
   "source": [
    "# Assignment No: 6\n",
    "a=int(input(\"Enter the number 1 :\"))\n",
    "b=int(input(\"Enter the number 2 :\"))\n",
    "sum=a+b\n",
    "print(sum)"
   ]
  },
  {
   "cell_type": "code",
   "execution_count": null,
   "metadata": {},
   "outputs": [],
   "source": []
  }
 ],
 "metadata": {
  "kernelspec": {
   "display_name": "Python 3",
   "language": "python",
   "name": "python3"
  },
  "language_info": {
   "codemirror_mode": {
    "name": "ipython",
    "version": 3
   },
   "file_extension": ".py",
   "mimetype": "text/x-python",
   "name": "python",
   "nbconvert_exporter": "python",
   "pygments_lexer": "ipython3",
   "version": "3.7.4"
  }
 },
 "nbformat": 4,
 "nbformat_minor": 2
}
